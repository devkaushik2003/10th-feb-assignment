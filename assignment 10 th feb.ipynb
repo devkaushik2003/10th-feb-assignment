{
 "cells": [
  {
   "cell_type": "code",
   "execution_count": 1,
   "id": "de8a7717-47fc-46c6-a2ba-7c52d78103b2",
   "metadata": {
    "tags": []
   },
   "outputs": [],
   "source": [
    "# Which function is used to open a file? What are the different modes of opening a file? Explain each mode\n",
    "# of file opening."
   ]
  },
  {
   "cell_type": "code",
   "execution_count": 2,
   "id": "2532593f-1ac8-4f7f-b5fa-7017f811f317",
   "metadata": {
    "tags": []
   },
   "outputs": [],
   "source": [
    "# open() function is used to open a file.\n",
    "# The open() function takes two arguments: the first argument is the filename,\n",
    "# and the second argument is the mode in which the file is opened.\n",
    "# The syntax for open() is as follows:\n",
    "# SYNTAX\n",
    "# file_object = open(filename, mode)"
   ]
  },
  {
   "cell_type": "code",
   "execution_count": null,
   "id": "21c9309d-94d7-4bbe-9159-846550a635d5",
   "metadata": {},
   "outputs": [],
   "source": [
    "# \"r\": This mode is used to open a file for reading. The file pointer is placed at the beginning of the file.\n",
    "# If the file doesn't exist, an error is raised.\n",
    "\n",
    "# \"w\": This mode is used to open a file for writing. The file pointer is placed at the beginning of the file.\n",
    "# If the file doesn't exist, it is created. If the file already exists, its contents are truncated.\n",
    "\n",
    "# \"a\": This mode is used to open a file for appending. The file pointer is placed at the end of the file.\n",
    "# If the file doesn't exist, it is created.\n",
    "\n",
    "# \"x\": This mode is used to create a new file and open it for writing. If the file already exists, an error is raised.\n",
    "\n",
    "# \"b\": This mode is used to open a file in binary mode.\n",
    "\n",
    "# \"t\": This mode is used to open a file in text mode.\n",
    "\n",
    "# \"+\": This mode is used to open a file for both reading and writing (updating)."
   ]
  },
  {
   "cell_type": "code",
   "execution_count": 3,
   "id": "78a37d0c-ad50-4b7e-af74-718fef290a82",
   "metadata": {
    "tags": []
   },
   "outputs": [],
   "source": [
    "# # Open a file for reading\n",
    "# file_object = open(\"file.txt\", \"r\")\n",
    "\n",
    "# # Open a file for writing\n",
    "# file_object = open(\"file.txt\", \"w\")\n",
    "\n",
    "# # Open a file for appending\n",
    "# file_object = open(\"file.txt\", \"a\")\n",
    "\n",
    "# # Open a new file for writing\n",
    "# file_object = open(\"new_file.txt\", \"x\")\n",
    "\n",
    "# # Open a file in binary mode\n",
    "# file_object = open(\"file.bin\", \"rb\")\n",
    "\n",
    "# # Open a file in text mode\n",
    "# file_object = open(\"file.txt\", \"rt\")\n",
    "\n",
    "# # Open a file for both reading and writing\n",
    "# file_object = open(\"file.txt\", \"r+\")\n"
   ]
  },
  {
   "cell_type": "code",
   "execution_count": 4,
   "id": "5f8128b4-635c-47ad-ad0d-2d15de1d0e1b",
   "metadata": {
    "tags": []
   },
   "outputs": [],
   "source": [
    "# Why close() function is used? Why is it important to close a file?"
   ]
  },
  {
   "cell_type": "code",
   "execution_count": 5,
   "id": "11b7f5b0-1eca-44a8-8dd5-07fd6ecd0c5d",
   "metadata": {
    "tags": []
   },
   "outputs": [],
   "source": [
    " # the close() function is used to close a file that has been opened using the open() function.\n",
    " #    It is important to close a file after you are done with it because it frees up system\n",
    " #    resources that were being used by the open file."
   ]
  },
  {
   "cell_type": "code",
   "execution_count": 6,
   "id": "1b597ccd-936f-41ac-ab26-f0df7aa86b94",
   "metadata": {
    "tags": []
   },
   "outputs": [],
   "source": [
    "# file_object = open(\"file.txt\", \"r\")\n",
    "\n",
    "# file_object.close()\n"
   ]
  },
  {
   "cell_type": "code",
   "execution_count": 34,
   "id": "30109309-8d90-41c2-b1bc-7437a9121115",
   "metadata": {
    "tags": []
   },
   "outputs": [],
   "source": [
    "# Write a python program to create a text file.\n",
    "# \\Write ‘I want to become a Data Scientist’ in that file. Then\n",
    "# close the file. Open this file and read the content of the file."
   ]
  },
  {
   "cell_type": "code",
   "execution_count": 35,
   "id": "66cc69a6-fd59-4f29-953d-f40ed41c42ba",
   "metadata": {
    "tags": []
   },
   "outputs": [],
   "source": [
    "with open(\"new.text\",'w') as f:\n",
    "    f.write(\"this is the file i have created\")\n",
    "    f.close()"
   ]
  },
  {
   "cell_type": "code",
   "execution_count": 36,
   "id": "4bee7c75-ee74-4173-b7b4-2e6f75bc9f0f",
   "metadata": {
    "tags": []
   },
   "outputs": [
    {
     "name": "stdout",
     "output_type": "stream",
     "text": [
      "this is the file i have created\n"
     ]
    }
   ],
   "source": [
    "with open(\"new.text\",'r') as f:\n",
    "    obj = f.read()\n",
    "    print(obj)\n"
   ]
  },
  {
   "cell_type": "code",
   "execution_count": 37,
   "id": "83f65f70-7ffc-4723-a736-19f0b997ab2e",
   "metadata": {
    "tags": []
   },
   "outputs": [],
   "source": [
    "# Explain the following with python code: read(), readline() and readlines()."
   ]
  },
  {
   "cell_type": "code",
   "execution_count": 38,
   "id": "3f541e4a-c440-40b7-863b-2ce9203a9a6f",
   "metadata": {
    "tags": []
   },
   "outputs": [
    {
     "name": "stdout",
     "output_type": "stream",
     "text": [
      "this is the file i have created\n"
     ]
    }
   ],
   "source": [
    "with open(\"new.text\",'r') as f:\n",
    "    obj = f.readline()\n",
    "    print(obj)"
   ]
  },
  {
   "cell_type": "code",
   "execution_count": 40,
   "id": "2f63ac1f-7a3a-4d45-8a2d-5be0746b5495",
   "metadata": {
    "tags": []
   },
   "outputs": [
    {
     "name": "stdout",
     "output_type": "stream",
     "text": [
      "['this is the file i have created']\n"
     ]
    }
   ],
   "source": [
    "with open(\"new.text\",'r') as f:\n",
    "    obj = f.readlines()\n",
    "    print(obj)"
   ]
  },
  {
   "cell_type": "code",
   "execution_count": 43,
   "id": "8e58d0f3-7c1e-449b-baed-568d31757c8c",
   "metadata": {
    "tags": []
   },
   "outputs": [],
   "source": [
    "# Explain why with statement is used with open(). What is the advantage of using with statement and\n",
    "# open() together?"
   ]
  },
  {
   "cell_type": "code",
   "execution_count": 44,
   "id": "2ebeb8a8-20eb-47a6-b08c-ad0077be43d3",
   "metadata": {
    "tags": []
   },
   "outputs": [],
   "source": [
    "#  the with statement is used in conjunction with the open() function to ensure that files are properly closed after they are used.\n",
    "# When you open a file using the open() function, you should always close it after you are done with it\n",
    "# to free up system resources and ensure that any changes you made to the file are saved.\n",
    "\n"
   ]
  },
  {
   "cell_type": "code",
   "execution_count": 45,
   "id": "94780793-ff23-4775-b927-10d0e1836f8c",
   "metadata": {
    "tags": []
   },
   "outputs": [],
   "source": [
    "# The advantage of using the with statement with the open() function is that it ensures that the file is closed after you are done with it, \n",
    "# even if an exception is raised.\n",
    "# This eliminates the need to manually close the file and helps to prevent errors that can occur if you forget to close the file."
   ]
  },
  {
   "cell_type": "code",
   "execution_count": 52,
   "id": "b22fc340-ff47-481b-bdd1-6c305abf2485",
   "metadata": {
    "tags": []
   },
   "outputs": [],
   "source": [
    "# with open(\"file.txt\", \"r\") as file_object\n",
    "\n"
   ]
  },
  {
   "cell_type": "code",
   "execution_count": null,
   "id": "4d64ec4a-81c0-4f45-a8b3-f148e7eb1411",
   "metadata": {},
   "outputs": [],
   "source": [
    "# Explain the write() and writelines() functions. Give a suitable example.\n",
    "# The write() method is used to write a single string to a file.\n",
    "# If the file already exists, the contents of the file will be overwritten with the new data.\n",
    "# The writelines() method is used to write a sequence of strings to a file. Each string is written to a separate line in the file.\n"
   ]
  },
  {
   "cell_type": "code",
   "execution_count": 50,
   "id": "91929129-463b-4b80-9dcc-41ada129d978",
   "metadata": {
    "tags": []
   },
   "outputs": [],
   "source": [
    "with open(\"new.text\",'w') as f:\n",
    "    f.write(\"this is the second text i have added in this file\")\n",
    "    "
   ]
  },
  {
   "cell_type": "code",
   "execution_count": 51,
   "id": "641b02d7-4bd7-4abc-944a-b30e72f5b118",
   "metadata": {
    "tags": []
   },
   "outputs": [],
   "source": [
    "with open(\"new.text\",'w') as f:\n",
    "    f.writelines(\"this is the third text i have added in this file\")"
   ]
  }
 ],
 "metadata": {
  "kernelspec": {
   "display_name": "Python 3 (ipykernel)",
   "language": "python",
   "name": "python3"
  },
  "language_info": {
   "codemirror_mode": {
    "name": "ipython",
    "version": 3
   },
   "file_extension": ".py",
   "mimetype": "text/x-python",
   "name": "python",
   "nbconvert_exporter": "python",
   "pygments_lexer": "ipython3",
   "version": "3.10.0"
  }
 },
 "nbformat": 4,
 "nbformat_minor": 5
}
